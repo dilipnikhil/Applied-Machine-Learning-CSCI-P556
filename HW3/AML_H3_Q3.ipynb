{
  "nbformat": 4,
  "nbformat_minor": 0,
  "metadata": {
    "colab": {
      "provenance": [],
      "gpuType": "T4"
    },
    "kernelspec": {
      "name": "python3",
      "display_name": "Python 3"
    },
    "language_info": {
      "name": "python"
    },
    "accelerator": "GPU"
  },
  "cells": [
    {
      "cell_type": "markdown",
      "source": [
        "Question 7:"
      ],
      "metadata": {
        "id": "4jYlWy435ive"
      }
    },
    {
      "cell_type": "code",
      "execution_count": 1,
      "metadata": {
        "colab": {
          "base_uri": "https://localhost:8080/"
        },
        "id": "p5MZPBKIO2eb",
        "outputId": "27447d85-6715-4a24-d4b7-fdb95f40cc94"
      },
      "outputs": [
        {
          "output_type": "stream",
          "name": "stdout",
          "text": [
            "Mounted at /content/drive\n",
            "/content/drive/MyDrive/AML/HW3/Q1\n"
          ]
        }
      ],
      "source": [
        "#lets import packages\n",
        "import numpy as np\n",
        "import matplotlib.pyplot as plt\n",
        "import matplotlib.pyplot as plt\n",
        "import pathlib, os, random\n",
        "import numpy as np\n",
        "import pandas as pd\n",
        "import tensorflow as tf\n",
        "import cv2\n",
        "from sklearn.preprocessing import StandardScaler\n",
        "from tensorflow.keras.optimizers import Adam\n",
        "from tensorflow.keras.layers import Dense, Flatten, Conv2D, MaxPooling2D, Activation, BatchNormalization, Dropout\n",
        "from tensorflow.keras.preprocessing.image import ImageDataGenerator\n",
        "from tensorflow.keras import Sequential\n",
        "from tensorflow.keras.callbacks import EarlyStopping,ModelCheckpoint\n",
        "from google.colab import drive\n",
        "drive.mount('/content/drive',force_remount=True)\n",
        "folder_path = \"/content/drive/MyDrive/AML/HW3/Q1/360\"\n",
        "%cd {folder_path}\n",
        "train_path = \"/content/drive/MyDrive/AML/HW3/Q1/360/\"\n",
        "valid_path = \"/content/drive/MyDrive/AML/HW3/Q1/120/\"\n",
        "from keras import regularizers\n",
        "from keras import models\n",
        "from sklearn.preprocessing import StandardScaler\n",
        "import time"
      ]
    },
    {
      "cell_type": "code",
      "source": [
        "height,width,channels=400,400,1"
      ],
      "metadata": {
        "id": "C8YZDqAoIStn"
      },
      "execution_count": 2,
      "outputs": []
    },
    {
      "cell_type": "code",
      "source": [
        "#load images\n",
        "def load_images(folder_path):\n",
        "    images = []\n",
        "    labels = []\n",
        "    for filename in os.listdir(folder_path):\n",
        "      if filename.endswith(\".jpg\"):\n",
        "        img = cv2.imread(os.path.join(folder_path, filename))\n",
        "        label = filename[0] # Extract first character which helps␣\n",
        "        img = cv2.resize(img, (400,400))\n",
        "        images.append(img)\n",
        "        labels.append(label)\n",
        "    return np.array(images), np.array(labels)"
      ],
      "metadata": {
        "id": "CgKtK5kHIw1N"
      },
      "execution_count": 2,
      "outputs": []
    },
    {
      "cell_type": "code",
      "source": [
        "#split our data\n",
        "X_train, y_train = load_images(train_path)\n",
        "X_val, y_val = load_images(valid_path)\n",
        "\n",
        "\n",
        "# scaling it btw 0-1, we divide it by 255 as its the max value for a pixel\n",
        "X_train = X_train / 255.0\n",
        "X_val = X_val / 255.0"
      ],
      "metadata": {
        "id": "tNS5D0gQI4rO"
      },
      "execution_count": 74,
      "outputs": []
    },
    {
      "cell_type": "code",
      "source": [
        "# convert images to grayscale\n",
        "def to_gray(images):\n",
        "  gray_images = [cv2.cvtColor(cv2.convertScaleAbs(img), cv2.COLOR_BGR2GRAY) for img in images]\n",
        "  return gray_images\n",
        "\n",
        "\n",
        "# standardize the data\n",
        "def standardize(images):\n",
        "  #flatten the data\n",
        "  flattened_images = [img.flatten() for img in images]\n",
        "  X = np.array(flattened_images)\n",
        "  #scale the data using standard scaler\n",
        "  scaler = StandardScaler()\n",
        "  X_standardized = scaler.fit_transform(X)\n",
        "  return X_standardized"
      ],
      "metadata": {
        "id": "r4CA6VlOVoz9"
      },
      "execution_count": 75,
      "outputs": []
    },
    {
      "cell_type": "code",
      "source": [
        "# Convert images to grayscale\n",
        "X_train = to_gray(X_train)\n",
        "# Standardize the grayscale images\n",
        "\n",
        "X_train = standardize(X_train)\n",
        "# Convert images to grayscale\n",
        "X_val = to_gray(X_val)\n",
        "# Standardize the grayscale images\n",
        "X_val = standardize(X_val)"
      ],
      "metadata": {
        "id": "jdKbtMytVzO7"
      },
      "execution_count": 76,
      "outputs": []
    },
    {
      "cell_type": "code",
      "source": [
        "from sklearn.preprocessing import LabelEncoder\n",
        "from keras.utils import to_categorical\n",
        "\n",
        "#label encoding\n",
        "label_encoder = LabelEncoder()\n",
        "y_train_encoded = label_encoder.fit_transform(y_train)\n",
        "y_val_encoded = label_encoder.fit_transform(y_val)\n",
        "\n",
        "# convert to one_hot\n",
        "y_train_one_hot = to_categorical(y_train_encoded, num_classes=3)\n",
        "y_val_one_hot = to_categorical(y_val_encoded, num_classes=3)\n",
        "\n",
        "y_train, y_val = y_train.flatten(), y_val.flatten()"
      ],
      "metadata": {
        "id": "p6_W82ljW_dh"
      },
      "execution_count": 42,
      "outputs": []
    },
    {
      "cell_type": "code",
      "source": [
        "# define our model\n",
        "\n",
        "height,width,channels=400,400,1\n",
        "\n",
        "\n",
        "model = models.Sequential()\n",
        "model.add(layers.Flatten(input_shape=X_train[0].shape))\n",
        "model.add(layers.Dense(100, activation='relu',kernel_regularizer=regularizers.l2(0.05)))\n",
        "model.add(layers.Dense(64, activation='relu')),\n",
        "model.add(layers.Dense(8, activation='relu',kernel_regularizer=regularizers.l2(0.05)))   # 8 neurons in last-1 layer\n",
        "model.add(layers.Dense(3, activation='softmax'))# 3 neurons in last layer"
      ],
      "metadata": {
        "id": "TjIQ19bmWSSu"
      },
      "execution_count": 156,
      "outputs": []
    },
    {
      "cell_type": "code",
      "source": [
        "# Compile the model\n",
        "model.compile(optimizer=Adam(learning_rate=0.001),loss='categorical_crossentropy',metrics=['accuracy'])"
      ],
      "metadata": {
        "id": "XMlvh8FOWXwn"
      },
      "execution_count": 157,
      "outputs": []
    },
    {
      "cell_type": "code",
      "source": [
        "import tensorflow as tf\n",
        "tf.config.run_functions_eagerly(True)\n",
        "start_time = time.time()\n",
        "print(\"Trainign Begins\")\n",
        "history = model.fit(X_train, y_train_one_hot,validation_data=(X_val, y_val_one_hot),epochs=30, batch_size=32)\n",
        "\n",
        "# Record the end time\n",
        "print(\"Training ends/n\")\n",
        "end_time = time.time()\n",
        "print(\"Total time\" ,(end_time -start_time))"
      ],
      "metadata": {
        "colab": {
          "base_uri": "https://localhost:8080/"
        },
        "id": "8y3ZJZqEWeVo",
        "outputId": "b0d3c6d1-9e9d-4be8-b830-924a74e76b42"
      },
      "execution_count": 158,
      "outputs": [
        {
          "output_type": "stream",
          "name": "stdout",
          "text": [
            "Trainign Begins\n",
            "Epoch 1/30\n",
            "12/12 [==============================] - 9s 739ms/step - loss: 4.2580 - accuracy: 0.3361 - val_loss: 2.9405 - val_accuracy: 0.3083\n",
            "Epoch 2/30\n",
            "12/12 [==============================] - 10s 834ms/step - loss: 2.2285 - accuracy: 0.3639 - val_loss: 1.9798 - val_accuracy: 0.2750\n",
            "Epoch 3/30\n",
            "12/12 [==============================] - 8s 623ms/step - loss: 1.8293 - accuracy: 0.3806 - val_loss: 1.7041 - val_accuracy: 0.3250\n",
            "Epoch 4/30\n",
            "12/12 [==============================] - 11s 892ms/step - loss: 1.6618 - accuracy: 0.3889 - val_loss: 1.6125 - val_accuracy: 0.3000\n",
            "Epoch 5/30\n",
            "12/12 [==============================] - 9s 773ms/step - loss: 1.5863 - accuracy: 0.3333 - val_loss: 1.5405 - val_accuracy: 0.3083\n",
            "Epoch 6/30\n",
            "12/12 [==============================] - 10s 800ms/step - loss: 1.5077 - accuracy: 0.3250 - val_loss: 1.4771 - val_accuracy: 0.3167\n",
            "Epoch 7/30\n",
            "12/12 [==============================] - 9s 716ms/step - loss: 1.4557 - accuracy: 0.3917 - val_loss: 1.4313 - val_accuracy: 0.3250\n",
            "Epoch 8/30\n",
            "12/12 [==============================] - 9s 750ms/step - loss: 1.4123 - accuracy: 0.3500 - val_loss: 1.3914 - val_accuracy: 0.3083\n",
            "Epoch 9/30\n",
            "12/12 [==============================] - 10s 844ms/step - loss: 1.3755 - accuracy: 0.3278 - val_loss: 1.3546 - val_accuracy: 0.3167\n",
            "Epoch 10/30\n",
            "12/12 [==============================] - 11s 918ms/step - loss: 1.3385 - accuracy: 0.3694 - val_loss: 1.3204 - val_accuracy: 0.3833\n",
            "Epoch 11/30\n",
            "12/12 [==============================] - 10s 893ms/step - loss: 1.3084 - accuracy: 0.3667 - val_loss: 1.2984 - val_accuracy: 0.3167\n",
            "Epoch 12/30\n",
            "12/12 [==============================] - 8s 678ms/step - loss: 1.2833 - accuracy: 0.3500 - val_loss: 1.2657 - val_accuracy: 0.3417\n",
            "Epoch 13/30\n",
            "12/12 [==============================] - 11s 901ms/step - loss: 1.2571 - accuracy: 0.3583 - val_loss: 1.2455 - val_accuracy: 0.2917\n",
            "Epoch 14/30\n",
            "12/12 [==============================] - 9s 735ms/step - loss: 1.2341 - accuracy: 0.3361 - val_loss: 1.2251 - val_accuracy: 0.3333\n",
            "Epoch 15/30\n",
            "12/12 [==============================] - 13s 1s/step - loss: 1.2165 - accuracy: 0.3500 - val_loss: 1.2142 - val_accuracy: 0.2833\n",
            "Epoch 16/30\n",
            "12/12 [==============================] - 15s 1s/step - loss: 1.2068 - accuracy: 0.3222 - val_loss: 1.1969 - val_accuracy: 0.3250\n",
            "Epoch 17/30\n",
            "12/12 [==============================] - 9s 788ms/step - loss: 1.1877 - accuracy: 0.3722 - val_loss: 1.1826 - val_accuracy: 0.3000\n",
            "Epoch 18/30\n",
            "12/12 [==============================] - 10s 820ms/step - loss: 1.1742 - accuracy: 0.3694 - val_loss: 1.1696 - val_accuracy: 0.3250\n",
            "Epoch 19/30\n",
            "12/12 [==============================] - 11s 906ms/step - loss: 1.1640 - accuracy: 0.3722 - val_loss: 1.1663 - val_accuracy: 0.2833\n",
            "Epoch 20/30\n",
            "12/12 [==============================] - 9s 729ms/step - loss: 1.1595 - accuracy: 0.3556 - val_loss: 1.1524 - val_accuracy: 0.3250\n",
            "Epoch 21/30\n",
            "12/12 [==============================] - 10s 881ms/step - loss: 1.1491 - accuracy: 0.3639 - val_loss: 1.1441 - val_accuracy: 0.3833\n",
            "Epoch 22/30\n",
            "12/12 [==============================] - 8s 631ms/step - loss: 1.1428 - accuracy: 0.3722 - val_loss: 1.1391 - val_accuracy: 0.3000\n",
            "Epoch 23/30\n",
            "12/12 [==============================] - 10s 838ms/step - loss: 1.1375 - accuracy: 0.3306 - val_loss: 1.1368 - val_accuracy: 0.3000\n",
            "Epoch 24/30\n",
            "12/12 [==============================] - 8s 649ms/step - loss: 1.1313 - accuracy: 0.3528 - val_loss: 1.1284 - val_accuracy: 0.3333\n",
            "Epoch 25/30\n",
            "12/12 [==============================] - 10s 876ms/step - loss: 1.1249 - accuracy: 0.3667 - val_loss: 1.1255 - val_accuracy: 0.2667\n",
            "Epoch 26/30\n",
            "12/12 [==============================] - 8s 654ms/step - loss: 1.1225 - accuracy: 0.3528 - val_loss: 1.1239 - val_accuracy: 0.2667\n",
            "Epoch 27/30\n",
            "12/12 [==============================] - 10s 883ms/step - loss: 1.1195 - accuracy: 0.3528 - val_loss: 1.1171 - val_accuracy: 0.3500\n",
            "Epoch 28/30\n",
            "12/12 [==============================] - 9s 728ms/step - loss: 1.1158 - accuracy: 0.3778 - val_loss: 1.1146 - val_accuracy: 0.3417\n",
            "Epoch 29/30\n",
            "12/12 [==============================] - 11s 916ms/step - loss: 1.1130 - accuracy: 0.3833 - val_loss: 1.1139 - val_accuracy: 0.2917\n",
            "Epoch 30/30\n",
            "12/12 [==============================] - 9s 800ms/step - loss: 1.1110 - accuracy: 0.3833 - val_loss: 1.1112 - val_accuracy: 0.3500\n",
            "Training ends/n\n",
            "Total time 322.49855637550354\n"
          ]
        }
      ]
    },
    {
      "cell_type": "markdown",
      "source": [
        "Question 7 A:\n",
        "Total time 1243.2983515262604"
      ],
      "metadata": {
        "id": "IWa-UFwGy2BW"
      }
    },
    {
      "cell_type": "code",
      "source": [
        "# Plot training and validation loss\n",
        "plt.figure(figsize=(12, 5))\n",
        "plt.subplot(1, 2, 1)\n",
        "plt.plot(history.history['loss'], label='Training Loss')\n",
        "plt.plot(history.history['val_loss'], label='Validation Loss')\n",
        "plt.title('Training and Validation Loss')\n",
        "plt.xlabel('Epoch')\n",
        "plt.ylabel('Loss')\n",
        "plt.legend()\n",
        "# Plot training and validation accuracy\n",
        "plt.subplot(1, 2, 2)\n",
        "plt.plot(history.history['accuracy'], label='Training Accuracy')\n",
        "plt.plot(history.history['val_accuracy'], label='Validation Accuracy')\n",
        "plt.title('Training and Validation Accuracy')\n",
        "plt.xlabel('Epoch')\n",
        "plt.ylabel('Accuracy')\n",
        "plt.legend()\n",
        "plt.show()"
      ],
      "metadata": {
        "colab": {
          "base_uri": "https://localhost:8080/",
          "height": 487
        },
        "id": "jIHaG0mEbi9J",
        "outputId": "5157b7da-8151-4330-9993-9e0027d4864a"
      },
      "execution_count": 159,
      "outputs": [
        {
          "output_type": "display_data",
          "data": {
            "text/plain": [
              "<Figure size 1200x500 with 2 Axes>"
            ],
            "image/png": "[encoded data removed]"
          },
          "metadata": {}
        }
      ]
    },
    {
      "cell_type": "markdown",
      "source": [
        "The training and validation accuracy plot does seem a little wierd, but because we have built a model that is fairly simpler with data that has only around 360 images, there are chances of model not capturing the entire variance in the data. Perhaps a better model and access to GPU with lots of rock images might help us train a better model."
      ],
      "metadata": {
        "id": "_2f1U0Jay9uN"
      }
    },
    {
      "cell_type": "code",
      "source": [
        "model.summary()"
      ],
      "metadata": {
        "colab": {
          "base_uri": "https://localhost:8080/"
        },
        "id": "bvFb372ebkZL",
        "outputId": "3ae840d5-6a39-4deb-d0a7-19bfa25f782a"
      },
      "execution_count": 160,
      "outputs": [
        {
          "output_type": "stream",
          "name": "stdout",
          "text": [
            "Model: \"sequential_8\"\n",
            "_________________________________________________________________\n",
            " Layer (type)                Output Shape              Param #   \n",
            "=================================================================\n",
            " flatten_8 (Flatten)         (None, 160000)            0         \n",
            "                                                                 \n",
            " dense_37 (Dense)            (None, 100)               16000100  \n",
            "                                                                 \n",
            " dense_38 (Dense)            (None, 64)                6464      \n",
            "                                                                 \n",
            " dense_39 (Dense)            (None, 8)                 520       \n",
            "                                                                 \n",
            " dense_40 (Dense)            (None, 3)                 27        \n",
            "                                                                 \n",
            "=================================================================\n",
            "Total params: 16007111 (61.06 MB)\n",
            "Trainable params: 16007111 (61.06 MB)\n",
            "Non-trainable params: 0 (0.00 Byte)\n",
            "_________________________________________________________________\n"
          ]
        }
      ]
    },
    {
      "cell_type": "markdown",
      "source": [
        "Total parameters: 16007111\n",
        "\n",
        "Trainable Parameters: 16007111\n",
        "\n",
        "Bias params : 175"
      ],
      "metadata": {
        "id": "Yj2M0fxDi5k5"
      }
    },
    {
      "cell_type": "code",
      "source": [
        "#extract the last -1 model weights and predict the values\n",
        "intermediate_layer_model = models.Model(inputs=model.input, outputs=model.layers[-2].output)\n",
        "intermediate_output = intermediate_layer_model.predict(X_train)"
      ],
      "metadata": {
        "colab": {
          "base_uri": "https://localhost:8080/"
        },
        "id": "YpAGGKp1dzFy",
        "outputId": "37f035d1-87a9-4547-b863-22c9d4510af9"
      },
      "execution_count": 161,
      "outputs": [
        {
          "output_type": "stream",
          "name": "stdout",
          "text": [
            "12/12 [==============================] - 2s 119ms/step\n"
          ]
        }
      ]
    },
    {
      "cell_type": "code",
      "source": [
        "intermediate_output"
      ],
      "metadata": {
        "colab": {
          "base_uri": "https://localhost:8080/"
        },
        "id": "9Y021El3d-r4",
        "outputId": "7480c0fe-305f-4f05-c60d-5fff03b1bd64"
      },
      "execution_count": 162,
      "outputs": [
        {
          "output_type": "execute_result",
          "data": {
            "text/plain": [
              "array([[0.        , 0.03961407, 0.02701724, ..., 0.01970244, 0.00707483,\n",
              "        0.        ],\n",
              "       [0.        , 0.03885668, 0.02765423, ..., 0.01913757, 0.00715571,\n",
              "        0.        ],\n",
              "       [0.        , 0.03585506, 0.02581708, ..., 0.01945174, 0.00665932,\n",
              "        0.        ],\n",
              "       ...,\n",
              "       [0.        , 0.03335616, 0.02172653, ..., 0.02114686, 0.00556673,\n",
              "        0.        ],\n",
              "       [0.        , 0.0347882 , 0.02229385, ..., 0.02125981, 0.00576035,\n",
              "        0.        ],\n",
              "       [0.        , 0.03928898, 0.02848026, ..., 0.01894047, 0.00796087,\n",
              "        0.        ]], dtype=float32)"
            ]
          },
          "metadata": {},
          "execution_count": 162
        }
      ]
    },
    {
      "cell_type": "code",
      "source": [
        "#read the given data\n",
        "human_data_360 = np.loadtxt(\"/content/mds_360.txt\")\n",
        "human_data_120 = np.loadtxt(\"/content/mds_120.txt\")"
      ],
      "metadata": {
        "id": "mGxohX1NeDL8"
      },
      "execution_count": 163,
      "outputs": []
    },
    {
      "cell_type": "code",
      "source": [
        "human_data_360"
      ],
      "metadata": {
        "colab": {
          "base_uri": "https://localhost:8080/"
        },
        "id": "0czWr506z0-Q",
        "outputId": "0291f2f8-cae2-4ecd-8702-f8aef1a3788b"
      },
      "execution_count": 164,
      "outputs": [
        {
          "output_type": "execute_result",
          "data": {
            "text/plain": [
              "array([[-3.743, -1.204,  2.001, ..., -1.992,  4.95 ,  1.695],\n",
              "       [ 2.332,  1.625,  0.985, ...,  0.093,  6.724,  0.708],\n",
              "       [ 0.346,  1.49 , -3.795, ..., -3.786,  0.706, -2.854],\n",
              "       ...,\n",
              "       [-3.475, -3.431, -2.184, ..., -2.265,  1.129, -1.201],\n",
              "       [-0.051, -2.358,  1.994, ...,  7.268, -0.593, -1.432],\n",
              "       [ 1.134, -4.9  ,  0.983, ...,  4.695,  0.624, -1.195]])"
            ]
          },
          "metadata": {},
          "execution_count": 164
        }
      ]
    },
    {
      "cell_type": "code",
      "source": [
        "np.unique(intermediate_output)"
      ],
      "metadata": {
        "colab": {
          "base_uri": "https://localhost:8080/"
        },
        "id": "0nbGfHlm0cZr",
        "outputId": "681c4d41-c54c-4e00-de42-a3beaa53b8f5"
      },
      "execution_count": 165,
      "outputs": [
        {
          "output_type": "execute_result",
          "data": {
            "text/plain": [
              "array([0.        , 0.00116988, 0.00165255, ..., 0.0438983 , 0.04653567,\n",
              "       0.04708417], dtype=float32)"
            ]
          },
          "metadata": {},
          "execution_count": 165
        }
      ]
    },
    {
      "cell_type": "code",
      "source": [
        "from scipy.spatial import procrustes\n",
        "train_mtx1, train_mtx2, train_disparity = procrustes( human_data_360,intermediate_output)\n",
        "train_disparity"
      ],
      "metadata": {
        "colab": {
          "base_uri": "https://localhost:8080/"
        },
        "id": "sWvrrt8deUAp",
        "outputId": "269b3b68-3da6-4fe5-d597-ca9dd9e31e68"
      },
      "execution_count": 176,
      "outputs": [
        {
          "output_type": "execute_result",
          "data": {
            "text/plain": [
              "0.9942420689377564"
            ]
          },
          "metadata": {},
          "execution_count": 176
        }
      ]
    },
    {
      "cell_type": "code",
      "source": [
        "correlation_matrix = np.corrcoef(train_mtx1, train_mtx2, rowvar=False)\n",
        "# Extract the correlation coefficients\n",
        "correlation_coefficient = correlation_matrix[:train_mtx1.shape[1], train_mtx1.shape[1]:]\n",
        "# Display the result\n",
        "print(\"Correlation Coefficients\")\n",
        "pd.DataFrame(correlation_coefficient)"
      ],
      "metadata": {
        "colab": {
          "base_uri": "https://localhost:8080/",
          "height": 317
        },
        "id": "KEQUW781fAoF",
        "outputId": "b98fad84-75f1-4df9-a60a-69cc0a8cec8b"
      },
      "execution_count": 177,
      "outputs": [
        {
          "output_type": "stream",
          "name": "stdout",
          "text": [
            "Correlation Coefficients\n"
          ]
        },
        {
          "output_type": "execute_result",
          "data": {
            "text/plain": [
              "          0         1         2         3         4         5         6  \\\n",
              "0  0.068537  0.062101 -0.054877  0.051291 -0.058181 -0.053973  0.061802   \n",
              "1  0.058438  0.061345 -0.051852  0.044545 -0.054332 -0.043723  0.061538   \n",
              "2 -0.018101 -0.018176  0.073481 -0.013048  0.016338  0.010146 -0.017130   \n",
              "3  0.080602  0.074389 -0.062162  0.110924 -0.091120 -0.105165  0.073801   \n",
              "4 -0.031490 -0.031250  0.026808 -0.031383  0.031938  0.032002 -0.030576   \n",
              "5 -0.065858 -0.056695  0.037534 -0.081657  0.072147  0.096604 -0.050219   \n",
              "6  0.072839  0.077076 -0.061207  0.055350 -0.066582 -0.048507  0.079607   \n",
              "7  0.006976  0.016772 -0.025153  0.013786 -0.014337 -0.004733  0.018302   \n",
              "\n",
              "          7  \n",
              "0  0.026361  \n",
              "1  0.059643  \n",
              "2 -0.031352  \n",
              "3  0.081870  \n",
              "4 -0.029323  \n",
              "5 -0.021822  \n",
              "6  0.081515  \n",
              "7  0.063186  "
            ],
            "text/html": [
              "\n",
              "  <div id=\"df-1d938662-7b7b-4091-8f47-c89fa4886b34\" class=\"colab-df-container\">\n",
              "    <div>\n",
              "<style scoped>\n",
              "    .dataframe tbody tr th:only-of-type {\n",
              "        vertical-align: middle;\n",
              "    }\n",
              "\n",
              "    .dataframe tbody tr th {\n",
              "        vertical-align: top;\n",
              "    }\n",
              "\n",
              "    .dataframe thead th {\n",
              "        text-align: right;\n",
              "    }\n",
              "</style>\n",
              "<table border=\"1\" class=\"dataframe\">\n",
              "  <thead>\n",
              "    <tr style=\"text-align: right;\">\n",
              "      <th></th>\n",
              "      <th>0</th>\n",
              "      <th>1</th>\n",
              "      <th>2</th>\n",
              "      <th>3</th>\n",
              "      <th>4</th>\n",
              "      <th>5</th>\n",
              "      <th>6</th>\n",
              "      <th>7</th>\n",
              "    </tr>\n",
              "  </thead>\n",
              "  <tbody>\n",
              "    <tr>\n",
              "      <th>0</th>\n",
              "      <td>0.068537</td>\n",
              "      <td>0.062101</td>\n",
              "      <td>-0.054877</td>\n",
              "      <td>0.051291</td>\n",
              "      <td>-0.058181</td>\n",
              "      <td>-0.053973</td>\n",
              "      <td>0.061802</td>\n",
              "      <td>0.026361</td>\n",
              "    </tr>\n",
              "    <tr>\n",
              "      <th>1</th>\n",
              "      <td>0.058438</td>\n",
              "      <td>0.061345</td>\n",
              "      <td>-0.051852</td>\n",
              "      <td>0.044545</td>\n",
              "      <td>-0.054332</td>\n",
              "      <td>-0.043723</td>\n",
              "      <td>0.061538</td>\n",
              "      <td>0.059643</td>\n",
              "    </tr>\n",
              "    <tr>\n",
              "      <th>2</th>\n",
              "      <td>-0.018101</td>\n",
              "      <td>-0.018176</td>\n",
              "      <td>0.073481</td>\n",
              "      <td>-0.013048</td>\n",
              "      <td>0.016338</td>\n",
              "      <td>0.010146</td>\n",
              "      <td>-0.017130</td>\n",
              "      <td>-0.031352</td>\n",
              "    </tr>\n",
              "    <tr>\n",
              "      <th>3</th>\n",
              "      <td>0.080602</td>\n",
              "      <td>0.074389</td>\n",
              "      <td>-0.062162</td>\n",
              "      <td>0.110924</td>\n",
              "      <td>-0.091120</td>\n",
              "      <td>-0.105165</td>\n",
              "      <td>0.073801</td>\n",
              "      <td>0.081870</td>\n",
              "    </tr>\n",
              "    <tr>\n",
              "      <th>4</th>\n",
              "      <td>-0.031490</td>\n",
              "      <td>-0.031250</td>\n",
              "      <td>0.026808</td>\n",
              "      <td>-0.031383</td>\n",
              "      <td>0.031938</td>\n",
              "      <td>0.032002</td>\n",
              "      <td>-0.030576</td>\n",
              "      <td>-0.029323</td>\n",
              "    </tr>\n",
              "    <tr>\n",
              "      <th>5</th>\n",
              "      <td>-0.065858</td>\n",
              "      <td>-0.056695</td>\n",
              "      <td>0.037534</td>\n",
              "      <td>-0.081657</td>\n",
              "      <td>0.072147</td>\n",
              "      <td>0.096604</td>\n",
              "      <td>-0.050219</td>\n",
              "      <td>-0.021822</td>\n",
              "    </tr>\n",
              "    <tr>\n",
              "      <th>6</th>\n",
              "      <td>0.072839</td>\n",
              "      <td>0.077076</td>\n",
              "      <td>-0.061207</td>\n",
              "      <td>0.055350</td>\n",
              "      <td>-0.066582</td>\n",
              "      <td>-0.048507</td>\n",
              "      <td>0.079607</td>\n",
              "      <td>0.081515</td>\n",
              "    </tr>\n",
              "    <tr>\n",
              "      <th>7</th>\n",
              "      <td>0.006976</td>\n",
              "      <td>0.016772</td>\n",
              "      <td>-0.025153</td>\n",
              "      <td>0.013786</td>\n",
              "      <td>-0.014337</td>\n",
              "      <td>-0.004733</td>\n",
              "      <td>0.018302</td>\n",
              "      <td>0.063186</td>\n",
              "    </tr>\n",
              "  </tbody>\n",
              "</table>\n",
              "</div>\n",
              "    <div class=\"colab-df-buttons\">\n",
              "\n",
              "  <div class=\"colab-df-container\">\n",
              "    <button class=\"colab-df-convert\" onclick=\"convertToInteractive('df-1d938662-7b7b-4091-8f47-c89fa4886b34')\"\n",
              "            title=\"Convert this dataframe to an interactive table.\"\n",
              "            style=\"display:none;\">\n",
              "\n",
              "  <svg xmlns=\"http://www.w3.org/2000/svg\" height=\"24px\" viewBox=\"0 -960 960 960\">\n",
              "    <path d=\"M120-120v-720h720v720H120Zm60-500h600v-160H180v160Zm220 220h160v-160H400v160Zm0 220h160v-160H400v160ZM180-400h160v-160H180v160Zm440 0h160v-160H620v160ZM180-180h160v-160H180v160Zm440 0h160v-160H620v160Z\"/>\n",
              "  </svg>\n",
              "    </button>\n",
              "\n",
              "  <style>\n",
              "    .colab-df-container {\n",
              "      display:flex;\n",
              "      gap: 12px;\n",
              "    }\n",
              "\n",
              "    .colab-df-convert {\n",
              "      background-color: #E8F0FE;\n",
              "      border: none;\n",
              "      border-radius: 50%;\n",
              "      cursor: pointer;\n",
              "      display: none;\n",
              "      fill: #1967D2;\n",
              "      height: 32px;\n",
              "      padding: 0 0 0 0;\n",
              "      width: 32px;\n",
              "    }\n",
              "\n",
              "    .colab-df-convert:hover {\n",
              "      background-color: #E2EBFA;\n",
              "      box-shadow: 0px 1px 2px rgba(60, 64, 67, 0.3), 0px 1px 3px 1px rgba(60, 64, 67, 0.15);\n",
              "      fill: #174EA6;\n",
              "    }\n",
              "\n",
              "    .colab-df-buttons div {\n",
              "      margin-bottom: 4px;\n",
              "    }\n",
              "\n",
              "    [theme=dark] .colab-df-convert {\n",
              "      background-color: #3B4455;\n",
              "      fill: #D2E3FC;\n",
              "    }\n",
              "\n",
              "    [theme=dark] .colab-df-convert:hover {\n",
              "      background-color: #434B5C;\n",
              "      box-shadow: 0px 1px 3px 1px rgba(0, 0, 0, 0.15);\n",
              "      filter: drop-shadow(0px 1px 2px rgba(0, 0, 0, 0.3));\n",
              "      fill: #FFFFFF;\n",
              "    }\n",
              "  </style>\n",
              "\n",
              "    <script>\n",
              "      const buttonEl =\n",
              "        document.querySelector('#df-1d938662-7b7b-4091-8f47-c89fa4886b34 button.colab-df-convert');\n",
              "      buttonEl.style.display =\n",
              "        google.colab.kernel.accessAllowed ? 'block' : 'none';\n",
              "\n",
              "      async function convertToInteractive(key) {\n",
              "        const element = document.querySelector('#df-1d938662-7b7b-4091-8f47-c89fa4886b34');\n",
              "        const dataTable =\n",
              "          await google.colab.kernel.invokeFunction('convertToInteractive',\n",
              "                                                    [key], {});\n",
              "        if (!dataTable) return;\n",
              "\n",
              "        const docLinkHtml = 'Like what you see? Visit the ' +\n",
              "          '<a target=\"_blank\" href=https://colab.research.google.com/notebooks/data_table.ipynb>data table notebook</a>'\n",
              "          + ' to learn more about interactive tables.';\n",
              "        element.innerHTML = '';\n",
              "        dataTable['output_type'] = 'display_data';\n",
              "        await google.colab.output.renderOutput(dataTable, element);\n",
              "        const docLink = document.createElement('div');\n",
              "        docLink.innerHTML = docLinkHtml;\n",
              "        element.appendChild(docLink);\n",
              "      }\n",
              "    </script>\n",
              "  </div>\n",
              "\n",
              "\n",
              "<div id=\"df-bbd96bea-c26d-49b7-bfb3-6f71257af05c\">\n",
              "  <button class=\"colab-df-quickchart\" onclick=\"quickchart('df-bbd96bea-c26d-49b7-bfb3-6f71257af05c')\"\n",
              "            title=\"Suggest charts\"\n",
              "            style=\"display:none;\">\n",
              "\n",
              "<svg xmlns=\"http://www.w3.org/2000/svg\" height=\"24px\"viewBox=\"0 0 24 24\"\n",
              "     width=\"24px\">\n",
              "    <g>\n",
              "        <path d=\"M19 3H5c-1.1 0-2 .9-2 2v14c0 1.1.9 2 2 2h14c1.1 0 2-.9 2-2V5c0-1.1-.9-2-2-2zM9 17H7v-7h2v7zm4 0h-2V7h2v10zm4 0h-2v-4h2v4z\"/>\n",
              "    </g>\n",
              "</svg>\n",
              "  </button>\n",
              "\n",
              "<style>\n",
              "  .colab-df-quickchart {\n",
              "      --bg-color: #E8F0FE;\n",
              "      --fill-color: #1967D2;\n",
              "      --hover-bg-color: #E2EBFA;\n",
              "      --hover-fill-color: #174EA6;\n",
              "      --disabled-fill-color: #AAA;\n",
              "      --disabled-bg-color: #DDD;\n",
              "  }\n",
              "\n",
              "  [theme=dark] .colab-df-quickchart {\n",
              "      --bg-color: #3B4455;\n",
              "      --fill-color: #D2E3FC;\n",
              "      --hover-bg-color: #434B5C;\n",
              "      --hover-fill-color: #FFFFFF;\n",
              "      --disabled-bg-color: #3B4455;\n",
              "      --disabled-fill-color: #666;\n",
              "  }\n",
              "\n",
              "  .colab-df-quickchart {\n",
              "    background-color: var(--bg-color);\n",
              "    border: none;\n",
              "    border-radius: 50%;\n",
              "    cursor: pointer;\n",
              "    display: none;\n",
              "    fill: var(--fill-color);\n",
              "    height: 32px;\n",
              "    padding: 0;\n",
              "    width: 32px;\n",
              "  }\n",
              "\n",
              "  .colab-df-quickchart:hover {\n",
              "    background-color: var(--hover-bg-color);\n",
              "    box-shadow: 0 1px 2px rgba(60, 64, 67, 0.3), 0 1px 3px 1px rgba(60, 64, 67, 0.15);\n",
              "    fill: var(--button-hover-fill-color);\n",
              "  }\n",
              "\n",
              "  .colab-df-quickchart-complete:disabled,\n",
              "  .colab-df-quickchart-complete:disabled:hover {\n",
              "    background-color: var(--disabled-bg-color);\n",
              "    fill: var(--disabled-fill-color);\n",
              "    box-shadow: none;\n",
              "  }\n",
              "\n",
              "  .colab-df-spinner {\n",
              "    border: 2px solid var(--fill-color);\n",
              "    border-color: transparent;\n",
              "    border-bottom-color: var(--fill-color);\n",
              "    animation:\n",
              "      spin 1s steps(1) infinite;\n",
              "  }\n",
              "\n",
              "  @keyframes spin {\n",
              "    0% {\n",
              "      border-color: transparent;\n",
              "      border-bottom-color: var(--fill-color);\n",
              "      border-left-color: var(--fill-color);\n",
              "    }\n",
              "    20% {\n",
              "      border-color: transparent;\n",
              "      border-left-color: var(--fill-color);\n",
              "      border-top-color: var(--fill-color);\n",
              "    }\n",
              "    30% {\n",
              "      border-color: transparent;\n",
              "      border-left-color: var(--fill-color);\n",
              "      border-top-color: var(--fill-color);\n",
              "      border-right-color: var(--fill-color);\n",
              "    }\n",
              "    40% {\n",
              "      border-color: transparent;\n",
              "      border-right-color: var(--fill-color);\n",
              "      border-top-color: var(--fill-color);\n",
              "    }\n",
              "    60% {\n",
              "      border-color: transparent;\n",
              "      border-right-color: var(--fill-color);\n",
              "    }\n",
              "    80% {\n",
              "      border-color: transparent;\n",
              "      border-right-color: var(--fill-color);\n",
              "      border-bottom-color: var(--fill-color);\n",
              "    }\n",
              "    90% {\n",
              "      border-color: transparent;\n",
              "      border-bottom-color: var(--fill-color);\n",
              "    }\n",
              "  }\n",
              "</style>\n",
              "\n",
              "  <script>\n",
              "    async function quickchart(key) {\n",
              "      const quickchartButtonEl =\n",
              "        document.querySelector('#' + key + ' button');\n",
              "      quickchartButtonEl.disabled = true;  // To prevent multiple clicks.\n",
              "      quickchartButtonEl.classList.add('colab-df-spinner');\n",
              "      try {\n",
              "        const charts = await google.colab.kernel.invokeFunction(\n",
              "            'suggestCharts', [key], {});\n",
              "      } catch (error) {\n",
              "        console.error('Error during call to suggestCharts:', error);\n",
              "      }\n",
              "      quickchartButtonEl.classList.remove('colab-df-spinner');\n",
              "      quickchartButtonEl.classList.add('colab-df-quickchart-complete');\n",
              "    }\n",
              "    (() => {\n",
              "      let quickchartButtonEl =\n",
              "        document.querySelector('#df-bbd96bea-c26d-49b7-bfb3-6f71257af05c button');\n",
              "      quickchartButtonEl.style.display =\n",
              "        google.colab.kernel.accessAllowed ? 'block' : 'none';\n",
              "    })();\n",
              "  </script>\n",
              "</div>\n",
              "    </div>\n",
              "  </div>\n"
            ]
          },
          "metadata": {},
          "execution_count": 177
        }
      ]
    },
    {
      "cell_type": "code",
      "source": [
        "intermediate_output_val = intermediate_layer_model.predict(X_val)"
      ],
      "metadata": {
        "colab": {
          "base_uri": "https://localhost:8080/"
        },
        "id": "w68JOh1HepRx",
        "outputId": "ac26db6a-8ef8-4c7a-82be-c2cfe6680b0c"
      },
      "execution_count": 178,
      "outputs": [
        {
          "output_type": "stream",
          "name": "stdout",
          "text": [
            "\r1/4 [======>.......................] - ETA: 0s"
          ]
        },
        {
          "output_type": "stream",
          "name": "stderr",
          "text": [
            "/usr/local/lib/python3.10/dist-packages/tensorflow/python/data/ops/structured_function.py:258: UserWarning: Even though the `tf.config.experimental_run_functions_eagerly` option is set, this option does not apply to tf.data functions. To force eager execution of tf.data functions, please use `tf.data.experimental.enable_debug_mode()`.\n",
            "  warnings.warn(\n"
          ]
        },
        {
          "output_type": "stream",
          "name": "stdout",
          "text": [
            "4/4 [==============================] - 0s 45ms/step\n"
          ]
        }
      ]
    },
    {
      "cell_type": "code",
      "source": [
        "val_mtx1, val_mtx2, val_disparity = procrustes(human_data_120, intermediate_output_val)\n",
        "val_disparity"
      ],
      "metadata": {
        "colab": {
          "base_uri": "https://localhost:8080/"
        },
        "id": "L5TKphIVb5T6",
        "outputId": "cba2a323-6853-47fd-846a-770abd893430"
      },
      "execution_count": 179,
      "outputs": [
        {
          "output_type": "execute_result",
          "data": {
            "text/plain": [
              "0.9907676903243698"
            ]
          },
          "metadata": {},
          "execution_count": 179
        }
      ]
    },
    {
      "cell_type": "code",
      "source": [
        "correlation_matrix = np.corrcoef(val_mtx1, val_mtx2, rowvar=False)\n",
        "# Extract the correlation coefficients\n",
        "correlation_coefficient = correlation_matrix[:val_mtx1.shape[1], val_mtx1.shape[1]:]\n",
        "# Display the result\n",
        "print(\"Correlation Coefficients between corresponding dimensions: t-SNE\")\n",
        "pd.DataFrame(correlation_coefficient)"
      ],
      "metadata": {
        "colab": {
          "base_uri": "https://localhost:8080/",
          "height": 317
        },
        "id": "SwyGlt_3cNU3",
        "outputId": "b30b62b6-301e-4435-e7bf-a60c59c266d3"
      },
      "execution_count": 180,
      "outputs": [
        {
          "output_type": "stream",
          "name": "stdout",
          "text": [
            "Correlation Coefficients between corresponding dimensions: t-SNE\n"
          ]
        },
        {
          "output_type": "execute_result",
          "data": {
            "text/plain": [
              "          0         1         2         3         4         5         6  \\\n",
              "0  0.126377 -0.131379 -0.112503  0.109645 -0.105722 -0.034767  0.063237   \n",
              "1 -0.053632  0.071768  0.041707 -0.039592  0.042136  0.020306 -0.078402   \n",
              "2 -0.137876  0.125210  0.149034 -0.123189  0.147282  0.071028 -0.060089   \n",
              "3  0.093885 -0.083046 -0.086070  0.103300 -0.083796 -0.022000 -0.023299   \n",
              "4 -0.090885  0.088732  0.103312 -0.084128  0.111598  0.052943 -0.068036   \n",
              "5 -0.004442  0.006355  0.007405 -0.003283  0.007869  0.039888 -0.022451   \n",
              "6  0.012414 -0.037703 -0.009625 -0.005342 -0.015537 -0.034495  0.111549   \n",
              "7  0.031577 -0.030258 -0.023839  0.042086 -0.025698  0.004679 -0.020433   \n",
              "\n",
              "          7  \n",
              "0  0.103313  \n",
              "1 -0.040413  \n",
              "2 -0.095588  \n",
              "3  0.117905  \n",
              "4 -0.072278  \n",
              "5  0.001956  \n",
              "6 -0.013123  \n",
              "7  0.061983  "
            ],
            "text/html": [
              "\n",
              "  <div id=\"df-7d957cf6-e20d-47bb-adf8-124c0ae34d90\" class=\"colab-df-container\">\n",
              "    <div>\n",
              "<style scoped>\n",
              "    .dataframe tbody tr th:only-of-type {\n",
              "        vertical-align: middle;\n",
              "    }\n",
              "\n",
              "    .dataframe tbody tr th {\n",
              "        vertical-align: top;\n",
              "    }\n",
              "\n",
              "    .dataframe thead th {\n",
              "        text-align: right;\n",
              "    }\n",
              "</style>\n",
              "<table border=\"1\" class=\"dataframe\">\n",
              "  <thead>\n",
              "    <tr style=\"text-align: right;\">\n",
              "      <th></th>\n",
              "      <th>0</th>\n",
              "      <th>1</th>\n",
              "      <th>2</th>\n",
              "      <th>3</th>\n",
              "      <th>4</th>\n",
              "      <th>5</th>\n",
              "      <th>6</th>\n",
              "      <th>7</th>\n",
              "    </tr>\n",
              "  </thead>\n",
              "  <tbody>\n",
              "    <tr>\n",
              "      <th>0</th>\n",
              "      <td>0.126377</td>\n",
              "      <td>-0.131379</td>\n",
              "      <td>-0.112503</td>\n",
              "      <td>0.109645</td>\n",
              "      <td>-0.105722</td>\n",
              "      <td>-0.034767</td>\n",
              "      <td>0.063237</td>\n",
              "      <td>0.103313</td>\n",
              "    </tr>\n",
              "    <tr>\n",
              "      <th>1</th>\n",
              "      <td>-0.053632</td>\n",
              "      <td>0.071768</td>\n",
              "      <td>0.041707</td>\n",
              "      <td>-0.039592</td>\n",
              "      <td>0.042136</td>\n",
              "      <td>0.020306</td>\n",
              "      <td>-0.078402</td>\n",
              "      <td>-0.040413</td>\n",
              "    </tr>\n",
              "    <tr>\n",
              "      <th>2</th>\n",
              "      <td>-0.137876</td>\n",
              "      <td>0.125210</td>\n",
              "      <td>0.149034</td>\n",
              "      <td>-0.123189</td>\n",
              "      <td>0.147282</td>\n",
              "      <td>0.071028</td>\n",
              "      <td>-0.060089</td>\n",
              "      <td>-0.095588</td>\n",
              "    </tr>\n",
              "    <tr>\n",
              "      <th>3</th>\n",
              "      <td>0.093885</td>\n",
              "      <td>-0.083046</td>\n",
              "      <td>-0.086070</td>\n",
              "      <td>0.103300</td>\n",
              "      <td>-0.083796</td>\n",
              "      <td>-0.022000</td>\n",
              "      <td>-0.023299</td>\n",
              "      <td>0.117905</td>\n",
              "    </tr>\n",
              "    <tr>\n",
              "      <th>4</th>\n",
              "      <td>-0.090885</td>\n",
              "      <td>0.088732</td>\n",
              "      <td>0.103312</td>\n",
              "      <td>-0.084128</td>\n",
              "      <td>0.111598</td>\n",
              "      <td>0.052943</td>\n",
              "      <td>-0.068036</td>\n",
              "      <td>-0.072278</td>\n",
              "    </tr>\n",
              "    <tr>\n",
              "      <th>5</th>\n",
              "      <td>-0.004442</td>\n",
              "      <td>0.006355</td>\n",
              "      <td>0.007405</td>\n",
              "      <td>-0.003283</td>\n",
              "      <td>0.007869</td>\n",
              "      <td>0.039888</td>\n",
              "      <td>-0.022451</td>\n",
              "      <td>0.001956</td>\n",
              "    </tr>\n",
              "    <tr>\n",
              "      <th>6</th>\n",
              "      <td>0.012414</td>\n",
              "      <td>-0.037703</td>\n",
              "      <td>-0.009625</td>\n",
              "      <td>-0.005342</td>\n",
              "      <td>-0.015537</td>\n",
              "      <td>-0.034495</td>\n",
              "      <td>0.111549</td>\n",
              "      <td>-0.013123</td>\n",
              "    </tr>\n",
              "    <tr>\n",
              "      <th>7</th>\n",
              "      <td>0.031577</td>\n",
              "      <td>-0.030258</td>\n",
              "      <td>-0.023839</td>\n",
              "      <td>0.042086</td>\n",
              "      <td>-0.025698</td>\n",
              "      <td>0.004679</td>\n",
              "      <td>-0.020433</td>\n",
              "      <td>0.061983</td>\n",
              "    </tr>\n",
              "  </tbody>\n",
              "</table>\n",
              "</div>\n",
              "    <div class=\"colab-df-buttons\">\n",
              "\n",
              "  <div class=\"colab-df-container\">\n",
              "    <button class=\"colab-df-convert\" onclick=\"convertToInteractive('df-7d957cf6-e20d-47bb-adf8-124c0ae34d90')\"\n",
              "            title=\"Convert this dataframe to an interactive table.\"\n",
              "            style=\"display:none;\">\n",
              "\n",
              "  <svg xmlns=\"http://www.w3.org/2000/svg\" height=\"24px\" viewBox=\"0 -960 960 960\">\n",
              "    <path d=\"M120-120v-720h720v720H120Zm60-500h600v-160H180v160Zm220 220h160v-160H400v160Zm0 220h160v-160H400v160ZM180-400h160v-160H180v160Zm440 0h160v-160H620v160ZM180-180h160v-160H180v160Zm440 0h160v-160H620v160Z\"/>\n",
              "  </svg>\n",
              "    </button>\n",
              "\n",
              "  <style>\n",
              "    .colab-df-container {\n",
              "      display:flex;\n",
              "      gap: 12px;\n",
              "    }\n",
              "\n",
              "    .colab-df-convert {\n",
              "      background-color: #E8F0FE;\n",
              "      border: none;\n",
              "      border-radius: 50%;\n",
              "      cursor: pointer;\n",
              "      display: none;\n",
              "      fill: #1967D2;\n",
              "      height: 32px;\n",
              "      padding: 0 0 0 0;\n",
              "      width: 32px;\n",
              "    }\n",
              "\n",
              "    .colab-df-convert:hover {\n",
              "      background-color: #E2EBFA;\n",
              "      box-shadow: 0px 1px 2px rgba(60, 64, 67, 0.3), 0px 1px 3px 1px rgba(60, 64, 67, 0.15);\n",
              "      fill: #174EA6;\n",
              "    }\n",
              "\n",
              "    .colab-df-buttons div {\n",
              "      margin-bottom: 4px;\n",
              "    }\n",
              "\n",
              "    [theme=dark] .colab-df-convert {\n",
              "      background-color: #3B4455;\n",
              "      fill: #D2E3FC;\n",
              "    }\n",
              "\n",
              "    [theme=dark] .colab-df-convert:hover {\n",
              "      background-color: #434B5C;\n",
              "      box-shadow: 0px 1px 3px 1px rgba(0, 0, 0, 0.15);\n",
              "      filter: drop-shadow(0px 1px 2px rgba(0, 0, 0, 0.3));\n",
              "      fill: #FFFFFF;\n",
              "    }\n",
              "  </style>\n",
              "\n",
              "    <script>\n",
              "      const buttonEl =\n",
              "        document.querySelector('#df-7d957cf6-e20d-47bb-adf8-124c0ae34d90 button.colab-df-convert');\n",
              "      buttonEl.style.display =\n",
              "        google.colab.kernel.accessAllowed ? 'block' : 'none';\n",
              "\n",
              "      async function convertToInteractive(key) {\n",
              "        const element = document.querySelector('#df-7d957cf6-e20d-47bb-adf8-124c0ae34d90');\n",
              "        const dataTable =\n",
              "          await google.colab.kernel.invokeFunction('convertToInteractive',\n",
              "                                                    [key], {});\n",
              "        if (!dataTable) return;\n",
              "\n",
              "        const docLinkHtml = 'Like what you see? Visit the ' +\n",
              "          '<a target=\"_blank\" href=https://colab.research.google.com/notebooks/data_table.ipynb>data table notebook</a>'\n",
              "          + ' to learn more about interactive tables.';\n",
              "        element.innerHTML = '';\n",
              "        dataTable['output_type'] = 'display_data';\n",
              "        await google.colab.output.renderOutput(dataTable, element);\n",
              "        const docLink = document.createElement('div');\n",
              "        docLink.innerHTML = docLinkHtml;\n",
              "        element.appendChild(docLink);\n",
              "      }\n",
              "    </script>\n",
              "  </div>\n",
              "\n",
              "\n",
              "<div id=\"df-4cac0c9d-8d88-401e-a648-752551ce2f36\">\n",
              "  <button class=\"colab-df-quickchart\" onclick=\"quickchart('df-4cac0c9d-8d88-401e-a648-752551ce2f36')\"\n",
              "            title=\"Suggest charts\"\n",
              "            style=\"display:none;\">\n",
              "\n",
              "<svg xmlns=\"http://www.w3.org/2000/svg\" height=\"24px\"viewBox=\"0 0 24 24\"\n",
              "     width=\"24px\">\n",
              "    <g>\n",
              "        <path d=\"M19 3H5c-1.1 0-2 .9-2 2v14c0 1.1.9 2 2 2h14c1.1 0 2-.9 2-2V5c0-1.1-.9-2-2-2zM9 17H7v-7h2v7zm4 0h-2V7h2v10zm4 0h-2v-4h2v4z\"/>\n",
              "    </g>\n",
              "</svg>\n",
              "  </button>\n",
              "\n",
              "<style>\n",
              "  .colab-df-quickchart {\n",
              "      --bg-color: #E8F0FE;\n",
              "      --fill-color: #1967D2;\n",
              "      --hover-bg-color: #E2EBFA;\n",
              "      --hover-fill-color: #174EA6;\n",
              "      --disabled-fill-color: #AAA;\n",
              "      --disabled-bg-color: #DDD;\n",
              "  }\n",
              "\n",
              "  [theme=dark] .colab-df-quickchart {\n",
              "      --bg-color: #3B4455;\n",
              "      --fill-color: #D2E3FC;\n",
              "      --hover-bg-color: #434B5C;\n",
              "      --hover-fill-color: #FFFFFF;\n",
              "      --disabled-bg-color: #3B4455;\n",
              "      --disabled-fill-color: #666;\n",
              "  }\n",
              "\n",
              "  .colab-df-quickchart {\n",
              "    background-color: var(--bg-color);\n",
              "    border: none;\n",
              "    border-radius: 50%;\n",
              "    cursor: pointer;\n",
              "    display: none;\n",
              "    fill: var(--fill-color);\n",
              "    height: 32px;\n",
              "    padding: 0;\n",
              "    width: 32px;\n",
              "  }\n",
              "\n",
              "  .colab-df-quickchart:hover {\n",
              "    background-color: var(--hover-bg-color);\n",
              "    box-shadow: 0 1px 2px rgba(60, 64, 67, 0.3), 0 1px 3px 1px rgba(60, 64, 67, 0.15);\n",
              "    fill: var(--button-hover-fill-color);\n",
              "  }\n",
              "\n",
              "  .colab-df-quickchart-complete:disabled,\n",
              "  .colab-df-quickchart-complete:disabled:hover {\n",
              "    background-color: var(--disabled-bg-color);\n",
              "    fill: var(--disabled-fill-color);\n",
              "    box-shadow: none;\n",
              "  }\n",
              "\n",
              "  .colab-df-spinner {\n",
              "    border: 2px solid var(--fill-color);\n",
              "    border-color: transparent;\n",
              "    border-bottom-color: var(--fill-color);\n",
              "    animation:\n",
              "      spin 1s steps(1) infinite;\n",
              "  }\n",
              "\n",
              "  @keyframes spin {\n",
              "    0% {\n",
              "      border-color: transparent;\n",
              "      border-bottom-color: var(--fill-color);\n",
              "      border-left-color: var(--fill-color);\n",
              "    }\n",
              "    20% {\n",
              "      border-color: transparent;\n",
              "      border-left-color: var(--fill-color);\n",
              "      border-top-color: var(--fill-color);\n",
              "    }\n",
              "    30% {\n",
              "      border-color: transparent;\n",
              "      border-left-color: var(--fill-color);\n",
              "      border-top-color: var(--fill-color);\n",
              "      border-right-color: var(--fill-color);\n",
              "    }\n",
              "    40% {\n",
              "      border-color: transparent;\n",
              "      border-right-color: var(--fill-color);\n",
              "      border-top-color: var(--fill-color);\n",
              "    }\n",
              "    60% {\n",
              "      border-color: transparent;\n",
              "      border-right-color: var(--fill-color);\n",
              "    }\n",
              "    80% {\n",
              "      border-color: transparent;\n",
              "      border-right-color: var(--fill-color);\n",
              "      border-bottom-color: var(--fill-color);\n",
              "    }\n",
              "    90% {\n",
              "      border-color: transparent;\n",
              "      border-bottom-color: var(--fill-color);\n",
              "    }\n",
              "  }\n",
              "</style>\n",
              "\n",
              "  <script>\n",
              "    async function quickchart(key) {\n",
              "      const quickchartButtonEl =\n",
              "        document.querySelector('#' + key + ' button');\n",
              "      quickchartButtonEl.disabled = true;  // To prevent multiple clicks.\n",
              "      quickchartButtonEl.classList.add('colab-df-spinner');\n",
              "      try {\n",
              "        const charts = await google.colab.kernel.invokeFunction(\n",
              "            'suggestCharts', [key], {});\n",
              "      } catch (error) {\n",
              "        console.error('Error during call to suggestCharts:', error);\n",
              "      }\n",
              "      quickchartButtonEl.classList.remove('colab-df-spinner');\n",
              "      quickchartButtonEl.classList.add('colab-df-quickchart-complete');\n",
              "    }\n",
              "    (() => {\n",
              "      let quickchartButtonEl =\n",
              "        document.querySelector('#df-4cac0c9d-8d88-401e-a648-752551ce2f36 button');\n",
              "      quickchartButtonEl.style.display =\n",
              "        google.colab.kernel.accessAllowed ? 'block' : 'none';\n",
              "    })();\n",
              "  </script>\n",
              "</div>\n",
              "    </div>\n",
              "  </div>\n"
            ]
          },
          "metadata": {},
          "execution_count": 180
        }
      ]
    }
  ]
}